{
 "cells": [
  {
   "cell_type": "code",
   "execution_count": 1,
   "id": "9a892b5e",
   "metadata": {},
   "outputs": [],
   "source": [
    "import pandas as pd\n",
    "setpath='Data-Engineer-Tech-Challenge/'\n",
    "\n",
    "dff = pd.read_csv(setpath+'car.data', names=['buying','maint','doors','persons','lug_boots','safety','class'])"
   ]
  },
  {
   "cell_type": "code",
   "execution_count": 2,
   "id": "0c7cc7c0",
   "metadata": {},
   "outputs": [
    {
     "data": {
      "text/plain": [
       "array(['unacc', 'acc', 'vgood', 'good'], dtype=object)"
      ]
     },
     "execution_count": 2,
     "metadata": {},
     "output_type": "execute_result"
    }
   ],
   "source": [
    "## Exploratory on Datasets\n",
    "#(1728,7)\n",
    "dff.shape\n",
    "dff.head(2)\n",
    "dff.describe()\n",
    "dff['class'].unique()"
   ]
  },
  {
   "cell_type": "code",
   "execution_count": 3,
   "id": "b21ef705",
   "metadata": {},
   "outputs": [],
   "source": [
    "## Test Values used for prediction\n",
    "\n",
    "test = {\"maint\":['high'],\n",
    "       \"doors\":[\"4\"],\n",
    "       \"lug_boots\":[\"big\"],\n",
    "       \"safety\":[\"high\"],\n",
    "       \"class\":[\"good\"]}\n",
    "testdf = pd.DataFrame(test)"
   ]
  },
  {
   "cell_type": "code",
   "execution_count": 4,
   "id": "49e19bea",
   "metadata": {},
   "outputs": [],
   "source": [
    "import sklearn \n",
    "from sklearn.ensemble import RandomForestClassifier\n",
    "from sklearn.linear_model import LogisticRegression\n",
    "from sklearn.tree import DecisionTreeClassifier\n",
    "from sklearn.preprocessing import OneHotEncoder\n",
    "from sklearn.model_selection import train_test_split\n",
    "from sklearn.metrics import accuracy_score"
   ]
  },
  {
   "cell_type": "code",
   "execution_count": 5,
   "id": "a3ea450d",
   "metadata": {},
   "outputs": [],
   "source": [
    "dff1 = dff[ dff[\"class\"].isin(['good','vgood']) ]  \n",
    "X = dff1.loc[:, ~dff1.columns.isin(['buying','persons'])]\n",
    "#print(X.head(50))\n",
    "Y = dff1['buying']\n",
    "\n",
    "X_1=pd.get_dummies(X)\n",
    "X_train, X_test, y_train, y_test = train_test_split(X_1, Y, test_size=0.3, random_state=0)\n",
    "\n",
    "# print('Train' )\n",
    "# print(y_train.value_counts())\n",
    "# print('Test')\n",
    "# print(y_test.value_counts())\n",
    "#print(X_train.head(2))"
   ]
  },
  {
   "cell_type": "code",
   "execution_count": null,
   "id": "f118d836",
   "metadata": {},
   "outputs": [],
   "source": []
  },
  {
   "cell_type": "code",
   "execution_count": 6,
   "id": "3c762069",
   "metadata": {},
   "outputs": [
    {
     "name": "stdout",
     "output_type": "stream",
     "text": [
      "train accuracy:  0.6341463414634146\n"
     ]
    }
   ],
   "source": [
    "## Implement dummies variable to convert it into numeric values\n",
    "X_train1=X_train\n",
    "#model = RandomForestClassifier(random_state =0,n_estimators=700)\n",
    "#model = DecisionTreeClassifier(random_state =0)\n",
    "model = LogisticRegression(random_state =0) \n",
    "model.fit(X_train1,y_train)\n",
    "\n",
    "X_test1=X_test\n",
    "y_pred=model.predict(X_test1)\n",
    "test_result =accuracy_score(y_test,y_pred)\n",
    "print(\"train accuracy: \" , test_result)"
   ]
  },
  {
   "cell_type": "code",
   "execution_count": 7,
   "id": "274cb207",
   "metadata": {},
   "outputs": [],
   "source": [
    "## Merge test with full datasets to generate the dummy variables \n",
    "model = LogisticRegression()\n",
    "model.fit(X_1,Y)\n",
    "X_testdf = testdf.loc[:, ~testdf.columns.isin(['buying','persons'])]\n",
    "tt=pd.concat([X_testdf,X])\n",
    "X_testdf1 = pd.get_dummies(tt)[:1]\n",
    "\n",
    "y_pred=model.predict(X_testdf1)\n",
    "print(y_pred)"
   ]
  },
  {
   "cell_type": "code",
   "execution_count": 9,
   "id": "3661c582",
   "metadata": {},
   "outputs": [
    {
     "name": "stdout",
     "output_type": "stream",
     "text": [
      "['low']\n"
     ]
    }
   ],
   "source": [
    "# ## Merge test with full datasets to generate the dummy variables \n",
    "# model = DecisionTreeClassifier()\n",
    "# model.fit(X_1,Y)\n",
    "# X_testdf = testdf.loc[:, ~testdf.columns.isin(['buying','persons'])]\n",
    "# tt=pd.concat([X_testdf,X])\n",
    "# X_testdf1 = pd.get_dummies(tt)[:1]\n",
    "\n",
    "# y_pred=model.predict(X_testdf1)\n",
    "# print(y_pred)"
   ]
  },
  {
   "cell_type": "code",
   "execution_count": 10,
   "id": "19399a86",
   "metadata": {},
   "outputs": [
    {
     "name": "stdout",
     "output_type": "stream",
     "text": [
      "['low']\n"
     ]
    }
   ],
   "source": [
    "# ## Merge test with full datasets to generate the dummy variables \n",
    "# model = RandomForestClassifier()\n",
    "# model.fit(X_1,Y)\n",
    "# X_testdf = testdf.loc[:, ~testdf.columns.isin(['buying','persons'])]\n",
    "# tt=pd.concat([X_testdf,X])\n",
    "# X_testdf1 = pd.get_dummies(tt)[:1]\n",
    "\n",
    "# y_pred=model.predict(X_testdf1)\n",
    "# print(y_pred)"
   ]
  },
  {
   "cell_type": "code",
   "execution_count": null,
   "id": "0a4b7f6e",
   "metadata": {},
   "outputs": [],
   "source": []
  }
 ],
 "metadata": {
  "kernelspec": {
   "display_name": "Python 3 (ipykernel)",
   "language": "python",
   "name": "python3"
  },
  "language_info": {
   "codemirror_mode": {
    "name": "ipython",
    "version": 3
   },
   "file_extension": ".py",
   "mimetype": "text/x-python",
   "name": "python",
   "nbconvert_exporter": "python",
   "pygments_lexer": "ipython3",
   "version": "3.8.11"
  }
 },
 "nbformat": 4,
 "nbformat_minor": 5
}
